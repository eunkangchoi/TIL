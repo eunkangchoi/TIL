{
 "cells": [
  {
   "cell_type": "markdown",
   "metadata": {},
   "source": [
    "# 유튜브 크롤링 하기\n",
    "\n",
    "\n",
    ">  ## 1. 유튜브 API 호출하기\n",
    "\n",
    "\n",
    "[유튜브크롤링 - 참고자료 - API호출하기](https://blog.naver.com/doublet7411/221511344483)\n",
    "\n",
    "\n",
    "- (1단계) GCP (Google Cloud Platform) 접속\n",
    "    - https://console.developers.google.com\n",
    "    \n",
    "- (2단계) API 라이브러리에서 \"Youtube Data API v3\" 선택\n",
    "    - 사용 클릭\n",
    "    - 좌측 열쇄모양 아이콘(사용자 인증정보) 클릭\n",
    "    - 상단 `+사용자 인증정보 만들기` 버튼 클릭 -> `API 키` 클릭\n",
    "    - API키 복사하기\n",
    "\n",
    "\n",
    "- (3단계) 구글 포스트맨을 활용하여 정상적으로 호출되는지 확인\n",
    "    - 구글포스트맨: 크롬 웹스토어에서 `Tabbed Postman` 설치\n",
    "    - 크롬 확장프로그램 `Tabbed Postman`을 실행.\n",
    "    - url:  `https://www.googleapis.com/youtube/v3/search`\n",
    "    - 요청방식: `GET`\n",
    "    - `URL params 버튼` 클릭\n",
    "    - URL parameter: `key`\n",
    "    - Value: `(2단계)에서 발급받은 API키`\n",
    " \n",
    "\n",
    "- postman 사용 결과\n",
    "\n",
    "![](./results/using_postman.JPG)"
   ]
  },
  {
   "cell_type": "markdown",
   "metadata": {},
   "source": [
    "> ## 2. 조건에 맞는 유튜브 JSON형식 데이터 조회\n",
    "\n",
    "- [유튜브 크롤링 참고자료 - 유튜브 크롤링2](https://blog.naver.com/doublet7411/221514043955)\n",
    "\n",
    "- Tabbed postman\n",
    "\n",
    "    - (URL Parameter Key) `key`  => (Value) `유튜브 api에서 발급받은 키`\n",
    "    - (URL Parameter Key) `part`  => (Value) `snippet`\n",
    "    - (URL Parameter Key) `order`  => (Value) `date`\n",
    "    - (URL Parameter Key) `q`  => (Value) `찾고자하는 유튜브 이름 (쿼리)`\n",
    "    \n",
    "<br>\n",
    "    \n",
    "- 파이썬 패키지 설치\n",
    "    - apiclient\n",
    "    ```\n",
    "    pip install apiclient\n",
    "    ```\n",
    "\n",
    "    - oauth2client\n",
    "    ```\n",
    "    pip install oauth2client\n",
    "    ```"
   ]
  },
  {
   "cell_type": "code",
   "execution_count": 1,
   "metadata": {
    "scrolled": true
   },
   "outputs": [
    {
     "name": "stdout",
     "output_type": "stream",
     "text": [
      "Collecting apiclient\n",
      "  Downloading https://files.pythonhosted.org/packages/f1/93/d36bc33f0b1cfbb7c2b5e3057586abc500aa49f0c1d8fb32af347319c1ca/apiclient-1.0.4.tar.gz\n",
      "Requirement already satisfied: urllib3 in c:\\users\\user\\anaconda3\\lib\\site-packages (from apiclient) (1.24.2)\n",
      "Requirement already satisfied: certifi in c:\\users\\user\\anaconda3\\lib\\site-packages (from apiclient) (2019.6.16)\n",
      "Building wheels for collected packages: apiclient\n",
      "  Building wheel for apiclient (setup.py): started\n",
      "  Building wheel for apiclient (setup.py): finished with status 'done'\n",
      "  Stored in directory: C:\\Users\\USER\\AppData\\Local\\pip\\Cache\\wheels\\cc\\7a\\2d\\1b55fbcfe08f95cec4bbef4c6626b79a11be7dc1a5124ddcf7\n",
      "Successfully built apiclient\n",
      "Installing collected packages: apiclient\n",
      "Successfully installed apiclient-1.0.4\n"
     ]
    }
   ],
   "source": [
    "!pip install apiclient"
   ]
  },
  {
   "cell_type": "code",
   "execution_count": 2,
   "metadata": {
    "scrolled": false
   },
   "outputs": [
    {
     "name": "stdout",
     "output_type": "stream",
     "text": [
      "Collecting oauth2client\n",
      "  Downloading https://files.pythonhosted.org/packages/95/a9/4f25a14d23f0786b64875b91784607c2277eff25d48f915e39ff0cff505a/oauth2client-4.1.3-py2.py3-none-any.whl (98kB)\n",
      "Requirement already satisfied: pyasn1-modules>=0.0.5 in c:\\users\\user\\anaconda3\\lib\\site-packages (from oauth2client) (0.2.4)\n",
      "Requirement already satisfied: six>=1.6.1 in c:\\users\\user\\anaconda3\\lib\\site-packages (from oauth2client) (1.12.0)\n",
      "Requirement already satisfied: pyasn1>=0.1.7 in c:\\users\\user\\anaconda3\\lib\\site-packages (from oauth2client) (0.4.5)\n",
      "Collecting httplib2>=0.9.1 (from oauth2client)\n",
      "  Downloading https://files.pythonhosted.org/packages/b3/ad/d9d9331850ea5bd4f5cb8c650c0bfa119a4abd6b0ad7c45b6506bc979fc0/httplib2-0.18.1-py3-none-any.whl (95kB)\n",
      "Collecting rsa>=3.1.4 (from oauth2client)\n",
      "  Downloading https://files.pythonhosted.org/packages/1c/df/c3587a667d6b308fadc90b99e8bc8774788d033efcc70f4ecaae7fad144b/rsa-4.6-py3-none-any.whl (47kB)\n",
      "Installing collected packages: httplib2, rsa, oauth2client\n",
      "Successfully installed httplib2-0.18.1 oauth2client-4.1.3 rsa-4.6\n"
     ]
    }
   ],
   "source": [
    "!pip install oauth2client"
   ]
  },
  {
   "cell_type": "code",
   "execution_count": 7,
   "metadata": {
    "scrolled": true
   },
   "outputs": [
    {
     "name": "stdout",
     "output_type": "stream",
     "text": [
      "Requirement already up-to-date: google-api-python-client in c:\\users\\user\\anaconda3\\lib\\site-packages (1.9.3)\n",
      "Requirement already satisfied, skipping upgrade: google-api-core<2dev,>=1.18.0 in c:\\users\\user\\anaconda3\\lib\\site-packages (from google-api-python-client) (1.21.0)\n",
      "Requirement already satisfied, skipping upgrade: httplib2<1dev,>=0.9.2 in c:\\users\\user\\anaconda3\\lib\\site-packages (from google-api-python-client) (0.18.1)\n",
      "Requirement already satisfied, skipping upgrade: six<2dev,>=1.6.1 in c:\\users\\user\\anaconda3\\lib\\site-packages (from google-api-python-client) (1.12.0)\n",
      "Requirement already satisfied, skipping upgrade: uritemplate<4dev,>=3.0.0 in c:\\users\\user\\anaconda3\\lib\\site-packages (from google-api-python-client) (3.0.1)\n",
      "Requirement already satisfied, skipping upgrade: google-auth>=1.16.0 in c:\\users\\user\\anaconda3\\lib\\site-packages (from google-api-python-client) (1.18.0)\n",
      "Requirement already satisfied, skipping upgrade: google-auth-httplib2>=0.0.3 in c:\\users\\user\\anaconda3\\lib\\site-packages (from google-api-python-client) (0.0.3)\n",
      "Requirement already satisfied, skipping upgrade: protobuf>=3.12.0 in c:\\users\\user\\anaconda3\\lib\\site-packages (from google-api-core<2dev,>=1.18.0->google-api-python-client) (3.12.2)\n",
      "Requirement already satisfied, skipping upgrade: pytz in c:\\users\\user\\anaconda3\\lib\\site-packages (from google-api-core<2dev,>=1.18.0->google-api-python-client) (2019.1)\n",
      "Requirement already satisfied, skipping upgrade: requests<3.0.0dev,>=2.18.0 in c:\\users\\user\\anaconda3\\lib\\site-packages (from google-api-core<2dev,>=1.18.0->google-api-python-client) (2.22.0)\n",
      "Requirement already satisfied, skipping upgrade: googleapis-common-protos<2.0dev,>=1.6.0 in c:\\users\\user\\anaconda3\\lib\\site-packages (from google-api-core<2dev,>=1.18.0->google-api-python-client) (1.52.0)\n",
      "Requirement already satisfied, skipping upgrade: setuptools>=34.0.0 in c:\\users\\user\\anaconda3\\lib\\site-packages (from google-api-core<2dev,>=1.18.0->google-api-python-client) (41.0.1)\n",
      "Requirement already satisfied, skipping upgrade: pyasn1-modules>=0.2.1 in c:\\users\\user\\anaconda3\\lib\\site-packages (from google-auth>=1.16.0->google-api-python-client) (0.2.4)\n",
      "Requirement already satisfied, skipping upgrade: rsa<5,>=3.1.4; python_version >= \"3\" in c:\\users\\user\\anaconda3\\lib\\site-packages (from google-auth>=1.16.0->google-api-python-client) (4.6)\n",
      "Requirement already satisfied, skipping upgrade: cachetools<5.0,>=2.0.0 in c:\\users\\user\\anaconda3\\lib\\site-packages (from google-auth>=1.16.0->google-api-python-client) (4.1.1)\n",
      "Requirement already satisfied, skipping upgrade: certifi>=2017.4.17 in c:\\users\\user\\anaconda3\\lib\\site-packages (from requests<3.0.0dev,>=2.18.0->google-api-core<2dev,>=1.18.0->google-api-python-client) (2019.6.16)\n",
      "Requirement already satisfied, skipping upgrade: idna<2.9,>=2.5 in c:\\users\\user\\anaconda3\\lib\\site-packages (from requests<3.0.0dev,>=2.18.0->google-api-core<2dev,>=1.18.0->google-api-python-client) (2.8)\n",
      "Requirement already satisfied, skipping upgrade: urllib3!=1.25.0,!=1.25.1,<1.26,>=1.21.1 in c:\\users\\user\\anaconda3\\lib\\site-packages (from requests<3.0.0dev,>=2.18.0->google-api-core<2dev,>=1.18.0->google-api-python-client) (1.24.2)\n",
      "Requirement already satisfied, skipping upgrade: chardet<3.1.0,>=3.0.2 in c:\\users\\user\\anaconda3\\lib\\site-packages (from requests<3.0.0dev,>=2.18.0->google-api-core<2dev,>=1.18.0->google-api-python-client) (3.0.4)\n",
      "Requirement already satisfied, skipping upgrade: pyasn1<0.5.0,>=0.4.1 in c:\\users\\user\\anaconda3\\lib\\site-packages (from pyasn1-modules>=0.2.1->google-auth>=1.16.0->google-api-python-client) (0.4.5)\n"
     ]
    }
   ],
   "source": [
    "!pip install --upgrade google-api-python-client"
   ]
  },
  {
   "cell_type": "code",
   "execution_count": 1,
   "metadata": {},
   "outputs": [],
   "source": [
    "from googleapiclient.discovery import build\n",
    "from googleapiclient.errors import HttpError\n",
    "from oauth2client.tools import argparser"
   ]
  },
  {
   "cell_type": "code",
   "execution_count": 2,
   "metadata": {},
   "outputs": [],
   "source": [
    "DEVELOPER_KEY= \"(2단계)에서 발급받은 유튜브 API\"\n",
    "YOUTUBE_API_SERVICE_NAME=\"youtube\"\n",
    "YOUTUBE_API_VERSION=\"v3\"\n",
    "\n",
    "\n",

    "\n",
    "def youtube_search(query):\n",
    "    print('검색결과 => ', query)\n",
    "    \n",
    "    # 크롤링 객체\n",
    "    youtube= build(YOUTUBE_API_SERVICE_NAME, YOUTUBE_API_VERSION, \n",
    "                   developerKey= DEVELOPER_KEY)\n",
    "    \n",
    "    # 검색결과 크롤링\n",
    "    # 검색리스트를 부른다.\n",
    "    # 쿼리에 명시된것과 일치한 결과물을 메소드에게 반환.\n",
    "    search_response= youtube.search().list(\n",
    "        q=query,\n",
    "        part=\"snippet\",\n",
    "        maxResults=50\n",
    "    ).execute()\n",
    "    \n",
    "    videos=[]\n",
    "    channels=[]\n",
    "    playlists=[]\n",
    "    \n",
    "    \n",
    "    # 리스트에 적절한 각각의 결과물들을 추가한다.\n",
    "    # 매칭된 비디오, 채널, 플레이리스트들을 리스트형태로 나타낸다.\n",
    "    \n",
    "    for search_result in search_response.get('items', []):\n",
    "        if search_result['id']['kind']=='youtube#video':\n",
    "            videos.append('%s (%s)' % (search_result['snippet']['title'],\n",
    "                                       search_result['id']['videoId']))\n",
    "            \n",
    "        elif search_result['id']['kind']=='youtube#channel':\n",
    "            channels.append('%s (%s)' %(search_result['snippet']['title'],\n",
    "                                       search_result['id']['channelId']))\n",
    "        elif search_result['id']['kind']=='youtube#playlist':\n",
    "            playlists.append('%s (%s)' %(search_result['snippet']['title'],\n",
    "                                        search_result['id']['playlistId']))\n",
    "    return videos, channels, playlists"
   ]
  },
  {
   "cell_type": "code",
   "execution_count": 9,
   "metadata": {},
   "outputs": [
    {
     "name": "stdout",
     "output_type": "stream",
     "text": [
      "검색결과 =>  서울 강남 맛집\n"
     ]
    },
    {
     "data": {
      "text/plain": [
       "['[삼카슐랭] #10 서울 강남맛집 종합편 (with 쓰복만) (1tD2I9XO3-s)',\n",
       " '❤무한도전이 극찬한 강남의 맛있는집!!! 어육장 ㅣ강남역,역삼역 6분거리ㅣ강남맛집ㅣ하얀트리 (kP6uWsZedms)',\n",
       " '강남 맛집 여기다 있음 (W_NgtlZ1m0A)',\n",
       " '[한국오빠]믿고 가는 이영자 추천 서울 맛집 10곳 완벽정리 (배고픔주의) (Dav8BVt6nH8)',\n",
       " '[강남 맛집] 강남인들만 안다는 중국집을 다녀와봤습니다/중국냉면 맛집 /in gangnam style Chinese dish (ZpXaNIa57uA)',\n",
       " '강남 노포 추억의 맛집 베스트 3 #08 (HUKBbChbWII)',\n",
       " '011 향방 (서울 강남구 신사역) 중화요리 맛집 리뷰 &amp; 짬뽕 리뷰  a.k.a. 대통령들의 맛집 (CMlge7i-7kg)',\n",
       " '서울 최고의 부촌 강남구 완전 정복 (ft.서울여행,강남맛집)(korea seoul,travel seoul,travel korea) (3zhrGREtAA8)',\n",
       " '🚗서울강남편 🍚강남맛집추천 신논현역 \\U0001f9aa🍤상무초밥 에서ㅣ일상브리로그 (N0xGxxdXCIQ)',\n",
       " '논현역 맛집 &#39;회식&#39;/횟집추천/강남맛집추천/논현동맛집/서울맛집/강남모임장소/리뷰퀸 (4RdvT1set7c)',\n",
       " '[돼동여지도]강남 맛집 (II_9DpUZOMQ)',\n",
       " '서울 강남 맛집 브이로그 | 돈까스, 수플레 팬케이크, 팟타이 | Yoonpic 윤픽 (QLoKRpWfit4)',\n",
       " '[하슐랭로드 4화] 강남가면 이거 꼭 드세요!! 백종원 핫도그에 방송나온 떡볶이를 맛보다! (yQq_0ABbnhE)',\n",
       " '강남 논현동 청평갈비 맛집! 강남맛집!! (C_bBbykEx-o)',\n",
       " '[맛집 소개] 강남역 맛집 TOP 10 (eEjn6wktrc4)',\n",
       " '강남 맛집 탐방! [마루가메 제면, 은행골, 오코노미야끼 우와] 솔직 리뷰 먹방 (8ISoaFBC9GM)',\n",
       " '강남에서 찾기힘든 한정식집 맛집발견! 70년 전통의 &#39;조양관&#39; 맛과 멋이있는 상견례명소 강남맛집투어 먹방 mukbnag [수아처럼] (Yem4xHWFtbU)',\n",
       " '[오늘 뭐 먹지?] 강남 찐맛집의 성지🔥은마상가🔥를 털어보았다 (eAjcGShRa1A)',\n",
       " '강남 떠오르는 초가성비 소고기집?! [강남 논현동] (ufOFTdhLcdw)',\n",
       " '요즘 제일 핫한 맛집•카페•술집 17곳 리얼 후기(서울~동탄) (mxtVpqgwBhw)',\n",
       " '연매출 7억! 강남을 평정한 4평짜리 떡볶이집 (yX5uEiL_oU8)',\n",
       " '강남 맛집 추천 양재 맛집 탐방 더케이호텔 서울 호텔뷔페 데이트 korea seoul hotel (PFH0fXZRm4Q)',\n",
       " '가라 고에몬! 🍴강남 맛집 고에몬 방문기/ 핫플 / 메뉴 (k3S6lzfu504)',\n",
       " '❤생생정보통 강남 맛집 고기폭탄 쌀국수를 먹고왔습니다~ korea foodㅣ강남역에서5분역삼역7분거리~!ㅣ맛집 리뷰ㅣ하얀트리ㅣ (OkuW_knL_oc)',\n",
       " '서울 카페 투어 [2] 세상 다 가진 뷰.. 티 컬렉티브 - 전망이 좋은 차 #강남카페 (6RRugMXWYEs)',\n",
       " '연예인 사인 많은 강남 맛집들 과연 다 맛집일까? 은행골, 진대감, 슈퍼집, 이모가 있는 집 (L0uvb9-ss50)',\n",
       " '첫 구독자만남 in 강남 ! 💘✨서울 일상 VLOG / 강남 맛집, 코엑스몰, 애슐리, 카페단지 🍓 (iKjljdMdF6U)',\n",
       " '서울 추억의 노포 맛집 리스트 2탄!! (이영자 신동엽 단골집 포함) 압구정한일관/만두집/영동설렁탕/충무로 진고개 (Dzpwx3xDE_0)',\n",
       " '강남 맛집 해산물 풀코스 맛보다! 싱싱한 회, 숙회, 물회, 튀김 등 끝없는 코스요리. 선릉 어로장 ♥ (bnj2WPwhh5Y)',\n",
       " '[맛공 강남맛집] ⚡이런 육회비빔밥은 처음이야⚡(이영자 육회비빔밥) (WOVqV_LoGA0)',\n",
       " '맛집뿌시고 만화카페가는 강남역 데이트 브이로그 💑 (QEKI6sjvD2w)',\n",
       " '서울 순대국 맛집 베스트 3 (IhWmWtigDNA)',\n",
       " '서울 갈비탕 맛집 베스트 3 (dV8ueBXK0Q4)',\n",
       " '서울 강남 핫플레이스 브이로그 - 맛집 탐방, 카페 투어, 아이스크림 (H-gXLfQjTWA)',\n",
       " '강남맛집 페스타마레 방송편 (yEas2thGO1s)',\n",
       " '[맛과 섹(한국편)-1화] 강남역 맛집 육전식당! 그리고 오피 이야기 1탄(오피란?, 가격, 미모, 연령대) (aKWVkH4lLCQ)',\n",
       " '[맛공 강남맛집] PC방에서 인기 많은 음식 털었습니다! 삼겹라면&amp;짜계치 (k-UcyzkPrJ0)',\n",
       " '강남역 &amp; 강남대로 모습! 역시 우리나라에서 제일가는 중심지, 유동인구가 100만이라는데... - 강남역 역세권 둘러보기 (vrJUy2jJl1w)',\n",
       " '강남 맛집 아트몬스터 수제맥주 브이로그 Seoul Gangnam Vlog (o5phc2Sqbhs)',\n",
       " '서울 가성비 맛집 베스트 5 #12 (NPQfj4latPY)',\n",
       " '서울 곰탕 맛집 베스트 4 (-7mVf7MXFH8)',\n",
       " '[일상브이로그VLOG]_서울 강남 논현동 방탄소년단BTS 추천 맛집/유정식당/가로수길/인사동촌/막걸리/술먹방/카페/데이트/_가을과겨울사이 (UYuI8VjFVzk)',\n",
       " '[강남역맛집] 뜨끈한 나베와 치즈듬뿍 돈까스 강남돈까스 (LcR-DvqY35s)',\n",
       " '서울 강남 역삼 &#39;삼다족발&#39; [맛집리뷰] [플로잉팬클럽 🦝오소리] (yFm7frjmatE)',\n",
       " '[ 강남역맛집 ] 구구당 : - 강남에서 즐기는 홍콩감성  - 서울 맛집 감성 뿌개기#1 (fpHzsmC4h58)',\n",
       " '무한리필 조개구이 맛집 /강남맛집 /청담마켓 소개해드릴게요 (nd6AZFAhfi0)']"
      ]
     },
     "execution_count": 9,
     "metadata": {},
     "output_type": "execute_result"
    }
   ],
   "source": [
    "\n",
    "search_queries=['서울 강남 맛집', '서울 홍대 맛집', '서울 가성비 맛집',\n",
    "               '서울 종로 맛집', '경기도 맛집', '서울 건국대 맛집']\n",
    "\n",
    "videos, channels, playlists = youtube_search(search_queries[0])\n",
    "videos"
   ]
  },
  {
   "cell_type": "code",
   "execution_count": 3,
   "metadata": {},
   "outputs": [],
   "source": []
  },
  {
   "cell_type": "code",
   "execution_count": 4,
   "metadata": {},
   "outputs": [],
   "source": [
    "youtube_search(search_queries[0])"
   ]
  },
  {
   "cell_type": "code",
   "execution_count": null,
   "metadata": {},
   "outputs": [],
   "source": [
    "\n",
    "\n",
    "for query in search_queries:\n",
    "    youtube_search(query)"
   ]
  }
 ],
 "metadata": {
  "kernelspec": {
   "display_name": "Python 3",
   "language": "python",
   "name": "python3"
  },
  "language_info": {
   "codemirror_mode": {
    "name": "ipython",
    "version": 3
   },
   "file_extension": ".py",
   "mimetype": "text/x-python",
   "name": "python",
   "nbconvert_exporter": "python",
   "pygments_lexer": "ipython3",
   "version": "3.7.0"
  }
 },
 "nbformat": 4,
 "nbformat_minor": 2
}
