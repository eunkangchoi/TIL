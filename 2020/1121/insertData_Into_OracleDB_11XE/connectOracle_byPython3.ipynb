{
 "cells": [
  {
   "cell_type": "markdown",
   "metadata": {},
   "source": [
    "# 파이썬으로 oracle 데이터베이스와 연결하기\n",
    "\n",
    "- [참고블로그- 블랙커피의 인생살이](https://m.blog.naver.com/PostView.nhn?blogId=axzswq&logNo=221533592504&proxyReferer=https:%2F%2Fwww.google.com%2F)\n",
    "\n",
    "- The document of cx_Oracle\n",
    "    - https://oracle.github.io/python-cx_Oracle/"
   ]
  },
  {
   "cell_type": "markdown",
   "metadata": {},
   "source": [
    "- cmd창\n",
    "- upgrade cx_Oracle\n",
    "\n",
    "```shell\n",
    "python3 -m pip install cx_Oracle --upgrade\n",
    "```"
   ]
  },
  {
   "cell_type": "code",
   "execution_count": 1,
   "metadata": {},
   "outputs": [
    {
     "name": "stdout",
     "output_type": "stream",
     "text": [
      "Requirement already satisfied: cx_Oracle in c:\\users\\user\\anaconda3\\lib\\site-packages (7.1.3)\n"
     ]
    }
   ],
   "source": [
    "!pip install cx_Oracle"
   ]
  },
  {
   "cell_type": "markdown",
   "metadata": {},
   "source": [
    "\n",
    "- jupyter notebook으로는 실행이 안되서\n",
    "- VS CODE로 실행해보겠습니다 ^^\n",
    "\n",
    "- 현재 connectOrace_byPython3.ipynb 는 어떻게 수행했는지 나타내는 가이드라인 입니다 ^^\n",
    "\n",
    "- 수행하기전에, 가상환경부터 세팅합니다.\n",
    "\n",
    "<br><br>\n",
    "\n",
    "\n",
    "## 가상환경 세팅하기\n",
    "\n",
    "<br>\n",
    "\n",
    "- windows10(관리자권한실행)\n",
    "\n",
    "```shell\n",
    "python3 -m venv myvenv\n",
    "```\n",
    "\n",
    "- macOs\n",
    "\n",
    "```shell\n",
    "python3 -m venv myvenv\n",
    "```\n",
    "\n",
    "<br>\n",
    "\n",
    "- windows10 : bash shell 선택\n",
    "\n",
    "- macOS : zsh 선택\n",
    "\n",
    "\n",
    "\n"
   ]
  },
  {
   "cell_type": "markdown",
   "metadata": {},
   "source": [
    "> ### connect with Oracle by using python - version 01\n",
    "\n",
    "\n",
    "\n",
    "```python\n",
    "\n",
    "import cx_Oracle\n",
    "import os\n",
    "os.putenv('NLS_LANG', '.UTF8')\n",
    "\n",
    "connection= cx_Oracle.connect('아이디', '비밀번호', 'localhost:1521/xe')\n",
    "cursor= connection.cursor()\n",
    "cursor.execute('select * from member')\n",
    "\n",
    "for drow in cursor:\n",
    "    print(drow)\n",
    "\n",
    "```"
   ]
  },
  {
   "cell_type": "markdown",
   "metadata": {},
   "source": [
    "<br><br>\n",
    "\n",
    "> ## connect with Oracle by using python -version 02\n",
    "\n",
    "\n",
    "```python\n",
    "import cx_Oracle\n",
    "import os\n",
    "\n",
    "\n",
    "os.putenv('NLS_LANG', '.UTF8')\n",
    "\n",
    "class Trip2ReapOracle:\n",
    "    def __init__(self):\n",
    "        self.connection= cx_Oracle.connect('아이디', '비밀번호', 'localhost:1521/xe')\n",
    "        self.cursor= self.connection.cursor()\n",
    "        self.sql=None\n",
    "    \n",
    "    #데이터 조회(select)\n",
    "    def selectQuery(self, sql):\n",
    "        result=self.cursor.execute(sql)\n",
    "        return [ list( d for d in data) for data in result]\n",
    "\n",
    "    \n",
    "\n",
    "members=Trip2ReapOracle().selectQueryData('select * from member')\n",
    "for member in members:\n",
    "    print(member)\n",
    "\n",
    "```"
   ]
  },
  {
   "cell_type": "markdown",
   "metadata": {},
   "source": [
    "\n",
    "### cx_Oracle 사용법 참고 블로그\n",
    "\n",
    "- https://geumjubu.tistory.com/10\n",
    "- https://m.blog.naver.com/PostView.nhn?blogId=ouo7581&logNo=221548476543&proxyReferer=https:%2F%2Fwww.google.com%2F"
   ]
  },
  {
   "cell_type": "code",
   "execution_count": null,
   "metadata": {},
   "outputs": [],
   "source": []
  }
 ],
 "metadata": {
  "kernelspec": {
   "display_name": "Python 3",
   "language": "python",
   "name": "python3"
  },
  "language_info": {
   "codemirror_mode": {
    "name": "ipython",
    "version": 3
   },
   "file_extension": ".py",
   "mimetype": "text/x-python",
   "name": "python",
   "nbconvert_exporter": "python",
   "pygments_lexer": "ipython3",
   "version": "3.7.0"
  }
 },
 "nbformat": 4,
 "nbformat_minor": 2
}
